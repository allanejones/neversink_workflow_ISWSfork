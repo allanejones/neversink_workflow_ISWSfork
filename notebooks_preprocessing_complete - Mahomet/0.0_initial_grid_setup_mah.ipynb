{
 "cells": [
  {
   "cell_type": "markdown",
   "metadata": {},
   "source": [
    "# <span class=\"anchor\" id=\"top\">Initial Grid Setup</span>\n",
    "\n",
    "#### Using [modflow-setup](https://github.com/aleaf/modflow-setup/tree/develop/mfsetup) it is possible to build only the discretization package to evaluate grid options. In the following script\n",
    "\n",
    "1. [Initial imports](#intro)<br>\n",
    "2. [Bounding Box and Grid Definition](#bound)<br>\n",
    "3. [Modify the .yml File](#yml)<br>\n",
    "4. [Create the DIS File](#dis)<br>\n",
    "5. [Create a shapefile of the Mahomet Boundary](#shapefile)<br>"
   ]
  },
  {
   "cell_type": "markdown",
   "metadata": {},
   "source": [
    "## <span class=\"anchor\" id=\"intro\">1. Initial imports</span>\n",
    "[Return to Top](#top)<br>"
   ]
  },
  {
   "cell_type": "code",
   "execution_count": 1,
   "metadata": {},
   "outputs": [],
   "source": [
    "import sys\n",
    "sys.path.append('../python_packages_static')\n",
    "import geopandas as gp\n",
    "import flopy as fp\n",
    "import mfsetup\n",
    "import os\n",
    "import numpy as np\n",
    "import matplotlib.pyplot as plt\n",
    "import yaml\n",
    "import pyproj\n",
    "\n"
   ]
  },
  {
   "cell_type": "markdown",
   "metadata": {},
   "source": [
    "#### We need to obtain the base directory. This is essential because MODFLOW setup leaves us in the working model directory. Note that if the MODFLOW setup code fails, the current working directory might be in the temp folder, and you will need to restart the kernel to reset the current working directory. "
   ]
  },
  {
   "cell_type": "code",
   "execution_count": 2,
   "metadata": {},
   "outputs": [
    {
     "data": {
      "text/plain": [
       "'C:\\\\Users\\\\dbabrams\\\\Documents\\\\ISWS\\\\GitHub\\\\neversink_workflow_ISWSfork\\\\notebooks_preprocessing_complete - Mahomet'"
      ]
     },
     "execution_count": 2,
     "metadata": {},
     "output_type": "execute_result"
    }
   ],
   "source": [
    "basedir = os.getcwd()\n",
    "basedir"
   ]
  },
  {
   "cell_type": "markdown",
   "metadata": {},
   "source": [
    "## <span class=\"anchor\" id=\"bound\">2. Bounding Box and Grid Definition</span>\n",
    "[Return to Top](#top)<br>\n",
    "\n",
    "#### Create a bounding box using a shapefile that will define the model extent. Here, we are just recreating the Mahomet Aquifer model, so we simply use a dissolve of the model grid shapefile as our input. "
   ]
  },
  {
   "cell_type": "code",
   "execution_count": 3,
   "metadata": {},
   "outputs": [],
   "source": [
    "domain = gp.read_file('../source_data/shapefiles/Extents/mahomet_dissolve.shp')"
   ]
  },
  {
   "cell_type": "markdown",
   "metadata": {},
   "source": [
    "#### Now we obtain the CRS, which we need for MODFLOW-SETUP. Please note that in the Neversink version of this code, they read in an EPSG, but our coordinate system does not have an analogous EPSG. At least at this point in our analyses, it only appears to be the CRS that matters. The example.yml has been updated to read in a CRS instead of an EPSG."
   ]
  },
  {
   "cell_type": "code",
   "execution_count": 4,
   "metadata": {},
   "outputs": [
    {
     "name": "stdout",
     "output_type": "stream",
     "text": [
      "PROJCRS[\"Clarke_1866_Lambert_Conformal_Conic\",BASEGEOGCRS[\"NAD27\",DATUM[\"North American Datum 1927\",ELLIPSOID[\"Clarke 1866\",6378206.4,294.9786982,LENGTHUNIT[\"metre\",1]],ID[\"EPSG\",6267]],PRIMEM[\"Greenwich\",0,ANGLEUNIT[\"Degree\",0.0174532925199433]]],CONVERSION[\"unnamed\",METHOD[\"Lambert Conic Conformal (2SP)\",ID[\"EPSG\",9802]],PARAMETER[\"Latitude of false origin\",33,ANGLEUNIT[\"Degree\",0.0174532925199433],ID[\"EPSG\",8821]],PARAMETER[\"Longitude of false origin\",-89.5,ANGLEUNIT[\"Degree\",0.0174532925199433],ID[\"EPSG\",8822]],PARAMETER[\"Latitude of 1st standard parallel\",33,ANGLEUNIT[\"Degree\",0.0174532925199433],ID[\"EPSG\",8823]],PARAMETER[\"Latitude of 2nd standard parallel\",45,ANGLEUNIT[\"Degree\",0.0174532925199433],ID[\"EPSG\",8824]],PARAMETER[\"Easting at false origin\",2999994,LENGTHUNIT[\"US survey foot\",0.304800609601219],ID[\"EPSG\",8826]],PARAMETER[\"Northing at false origin\",0,LENGTHUNIT[\"US survey foot\",0.304800609601219],ID[\"EPSG\",8827]]],CS[Cartesian,2],AXIS[\"easting\",east,ORDER[1],LENGTHUNIT[\"US survey foot\",0.304800609601219,ID[\"EPSG\",9003]]],AXIS[\"northing\",north,ORDER[2],LENGTHUNIT[\"US survey foot\",0.304800609601219,ID[\"EPSG\",9003]]]]\n"
     ]
    }
   ],
   "source": [
    "#unlike neversink, we extract the crs directly and read that in rather than reading in the epsg in MODFLOW setup\n",
    "crs = pyproj.CRS(domain.crs)\n",
    "print(crs)"
   ]
  },
  {
   "cell_type": "markdown",
   "metadata": {},
   "source": [
    "#### With the crs, we can explore and extract the geometry of the model. Specifically, we need to extract the total distance in the x and y directions to be able to calculate the number of cells and columns later on. "
   ]
  },
  {
   "cell_type": "code",
   "execution_count": 5,
   "metadata": {},
   "outputs": [
    {
     "name": "stdout",
     "output_type": "stream",
     "text": [
      "(2751120.000000003, 2494080.000000006, 3547079.9999999944, 2857080.000000006)\n",
      "795959.9999999916 363000.0\n"
     ]
    }
   ],
   "source": [
    "# plot the model domain. Since this is a shapefile with a single polygon, the entire domain geometry is plotted below\n",
    "domain.geometry[0]\n",
    "\n",
    "# extract the model bounds\n",
    "bounds = domain.geometry[0].bounds\n",
    "print(bounds)\n",
    "\n",
    "# define the model domain length and height\n",
    "tot_xdist, tot_ydist = bounds[2]-bounds[0], bounds[3]-bounds[1]\n",
    "print (tot_xdist,tot_ydist)"
   ]
  },
  {
   "cell_type": "markdown",
   "metadata": {},
   "source": [
    "#### Define our grid spacing and the number of cells in the x and y direction.\n",
    "\n",
    "### Important: we are not snapping to the national grid at this point in time. As currently written, we would need to set dx = 1000 ft or a value that is divisible into 1000 (500 ft, for example). To snap to the national grid, you need to modify the 'example.yml' file, either manually or in this code."
   ]
  },
  {
   "cell_type": "code",
   "execution_count": 6,
   "metadata": {},
   "outputs": [],
   "source": [
    "# we are not snapping to the national grid at this point in time\n",
    "dx = 1320\n",
    "dy = dx"
   ]
  },
  {
   "cell_type": "code",
   "execution_count": 7,
   "metadata": {},
   "outputs": [],
   "source": [
    "xcells = int(np.ceil(tot_xdist/dx))\n",
    "ycells = int(np.ceil(tot_ydist/dy))"
   ]
  },
  {
   "cell_type": "code",
   "execution_count": 8,
   "metadata": {},
   "outputs": [
    {
     "data": {
      "text/plain": [
       "(603, 275, 165825)"
      ]
     },
     "execution_count": 8,
     "metadata": {},
     "output_type": "execute_result"
    }
   ],
   "source": [
    "xcells,ycells, xcells*ycells"
   ]
  },
  {
   "cell_type": "markdown",
   "metadata": {},
   "source": [
    "## <span class=\"anchor\" id=\"yml\">3. Modify the .yml file</span>\n",
    "[Return to Top](#top)<br>"
   ]
  },
  {
   "cell_type": "markdown",
   "metadata": {},
   "source": [
    "#### Load the example.yml file into Python. This is the generic .yml file that should remain unchanged as much as possible. "
   ]
  },
  {
   "cell_type": "code",
   "execution_count": 9,
   "metadata": {},
   "outputs": [],
   "source": [
    "with open('example.yml', 'r') as ifp:\n",
    "    inyml = yaml.load(ifp, Loader=yaml.FullLoader)"
   ]
  },
  {
   "cell_type": "markdown",
   "metadata": {},
   "source": [
    "#### Redefine the model offset, which defines the lower left corner of the model grid.\n",
    "\n",
    "#### Define the appropriate coordinate system, in our case this is lambert. "
   ]
  },
  {
   "cell_type": "code",
   "execution_count": 10,
   "metadata": {},
   "outputs": [],
   "source": [
    "inyml['setup_grid']['xoff'] = bounds[0]\n",
    "inyml['setup_grid']['yoff'] = bounds[1]\n",
    "inyml['setup_grid']['crs'] = crs"
   ]
  },
  {
   "cell_type": "markdown",
   "metadata": {},
   "source": [
    "#### Define the cell size, the number of layers, the number of rows, and the number of columns"
   ]
  },
  {
   "cell_type": "code",
   "execution_count": 11,
   "metadata": {},
   "outputs": [],
   "source": [
    "inyml['dis']['griddata']['delr'] = dy\n",
    "inyml['dis']['griddata']['delc'] = dx\n",
    "inyml['dis']['dimensions']['nlay'] = 1\n",
    "inyml['dis']['dimensions']['nrow'] = ycells\n",
    "inyml['dis']['dimensions']['ncol'] = xcells"
   ]
  },
  {
   "cell_type": "markdown",
   "metadata": {},
   "source": [
    "#### Write the updated information into the .yml file specifically created for the Mahomet Aquifer. "
   ]
  },
  {
   "cell_type": "code",
   "execution_count": 13,
   "metadata": {},
   "outputs": [],
   "source": [
    "with open('mahomet.yml', 'w') as ofp:\n",
    "    yaml.dump(inyml, ofp)"
   ]
  },
  {
   "cell_type": "markdown",
   "metadata": {},
   "source": [
    "## <span class=\"anchor\" id=\"dis\">4. Discretization Package</span>\n",
    "[Return to Top](#top)<br>\n",
    "\n",
    "#### In this block of code, we are creating the MODFLOW object using the updated 'mahomet.yml' file. We haven't assigned much yet, but this will create our spatial discretization object. \n"
   ]
  },
  {
   "cell_type": "code",
   "execution_count": 14,
   "metadata": {},
   "outputs": [
    {
     "name": "stdout",
     "output_type": "stream",
     "text": [
      "loading configuration file mahomet.yml...\n",
      "\n",
      "Setting up mahomet model from data in None\n",
      "\n",
      "\n",
      "validating configuration...\n",
      "DIS package\n",
      "done with validation.\n",
      "\n",
      "setting up model grid...\n",
      "wrote C:\\Users\\dbabrams\\Documents\\ISWS\\GitHub\\neversink_workflow_ISWSfork\\notebooks_preprocessing_complete - Mahomet\\tmp\\mahomet\\mahomet_grid.json\n",
      "writing C:\\Users\\dbabrams\\Documents\\ISWS\\GitHub\\neversink_workflow_ISWSfork\\notebooks_preprocessing_complete - Mahomet\\tmp\\mahomet\\postproc\\shps\\mahomet_bbox.shp... Done\n",
      "finished in 0.81s\n",
      "\n",
      "\n",
      "Setting up TDIS package...\n",
      "finished in 0.05s\n",
      "\n",
      "\n",
      "Setting up IMS package...\n",
      "finished in 0.00s\n",
      "\n",
      "\n",
      "Setting up DIS package...\n",
      "wrote .\\external\\top.dat, took 0.05s\n",
      "loading original\\mahomet_top.dat.original, shape=(275, 603), took 0.09s\n",
      "computing cell thicknesses...\n",
      "finished in 3.19s\n",
      "\n",
      "wrote .\\external\\top.dat, took 0.05s\n",
      "wrote .\\external\\botm_000.dat, took 0.03s\n",
      "wrote .\\external\\top.dat, took 0.05s\n",
      "\n",
      "reading C:\\Users\\dbabrams\\Documents\\ISWS\\GitHub\\neversink_workflow_ISWSfork\\source_data\\Shapefiles\\Extents\\mahomet_dissolve.shp...\n",
      "--> building dataframe... (may take a while for large shapefiles)\n",
      "wrote .\\external\\idomain_000.dat, took 0.03s\n",
      "(re)setting the idomain array...\n",
      "computing cell thicknesses...\n",
      "finished in 3.20s\n",
      "\n",
      "wrote original\\lakarr_000.dat, took 0.03s\n",
      "loading original\\mahomet_top.dat.original, shape=(275, 603), took 0.08s\n",
      "computing cell thicknesses...\n",
      "finished in 3.04s\n",
      "\n",
      "wrote .\\external\\top.dat, took 0.04s\n",
      "wrote .\\external\\botm_000.dat, took 0.04s\n",
      "wrote .\\external\\top.dat, took 0.04s\n",
      "wrote .\\external\\idomain_000.dat, took 0.03s\n",
      "setting up model grid...\n",
      "wrote C:\\Users\\dbabrams\\Documents\\ISWS\\GitHub\\neversink_workflow_ISWSfork\\notebooks_preprocessing_complete - Mahomet\\tmp\\mahomet\\mahomet_grid.json\n",
      "writing C:\\Users\\dbabrams\\Documents\\ISWS\\GitHub\\neversink_workflow_ISWSfork\\notebooks_preprocessing_complete - Mahomet\\tmp\\mahomet\\postproc\\shps\\mahomet_bbox.shp... Done\n",
      "finished in 0.72s\n",
      "\n",
      "wrote .\\external\\irch.dat, took 0.03s\n",
      "finished in 12.15s\n",
      "\n",
      "finished setting up model in 13.11s\n",
      "C:\\Users\\dbabrams\\Documents\\ISWS\\GitHub\\neversink_workflow_ISWSfork\\notebooks_preprocessing_complete - Mahomet\\tmp\\mahomet\n",
      "\n",
      "mahomet model version 0.post105.dev0+g14b802b\n",
      "1 layer(s), 275 row(s), 603 column(s)\n",
      "delr: [1320.00...1320.00] meters\n",
      "delc: [1320.00...1320.00] meters\n",
      "CRS: PROJCRS[\"Clarke_1866_Lambert_Conformal_Conic\",BASEGEOGCRS[\"NAD27\",DATUM[\"North American Datum 1927\",ELLIPSOID[\"Clarke 1866\",6378206.4,294.9786982,LENGTHUNIT[\"metre\",1]],ID[\"EPSG\",6267]],PRIMEM[\"Greenwich\",0,ANGLEUNIT[\"Degree\",0.0174532925199433]]],CONVERSION[\"unnamed\",METHOD[\"Lambert Conic Conformal (2SP)\",ID[\"EPSG\",9802]],PARAMETER[\"Latitude of false origin\",33,ANGLEUNIT[\"Degree\",0.0174532925199433],ID[\"EPSG\",8821]],PARAMETER[\"Longitude of false origin\",-89.5,ANGLEUNIT[\"Degree\",0.0174532925199433],ID[\"EPSG\",8822]],PARAMETER[\"Latitude of 1st standard parallel\",33,ANGLEUNIT[\"Degree\",0.0174532925199433],ID[\"EPSG\",8823]],PARAMETER[\"Latitude of 2nd standard parallel\",45,ANGLEUNIT[\"Degree\",0.0174532925199433],ID[\"EPSG\",8824]],PARAMETER[\"Easting at false origin\",2999994,LENGTHUNIT[\"US survey foot\",0.304800609601219],ID[\"EPSG\",8826]],PARAMETER[\"Northing at false origin\",0,LENGTHUNIT[\"US survey foot\",0.304800609601219],ID[\"EPSG\",8827]]],CS[Cartesian,2],AXIS[\"easting\",east,ORDER[1],LENGTHUNIT[\"US survey foot\",0.304800609601219,ID[\"EPSG\",9003]]],AXIS[\"northing\",north,ORDER[2],LENGTHUNIT[\"US survey foot\",0.304800609601219,ID[\"EPSG\",9003]]]]\n",
      "length units: feet\n",
      "xll: 2751120.000000003; yll: 2494080.000000006; rotation: 0.0\n",
      "Bounds: (2751120.000000003, 3547080.000000003, 2494080.000000006, 2857080.000000006)\n",
      "Packages: dis\n",
      "1 period(s):\n",
      " per start_datetime end_datetime  perlen  steady  nstp\n",
      "   0     2015-01-01   2015-01-02     1.0    True     1\n",
      "   ...\n",
      "   0     2015-01-01   2015-01-02     1.0    True     1\n"
     ]
    }
   ],
   "source": [
    "m = mfsetup.MF6model.setup_from_yaml('mahomet.yml')"
   ]
  },
  {
   "cell_type": "code",
   "execution_count": 18,
   "metadata": {},
   "outputs": [
    {
     "data": {
      "text/plain": [
       "829125"
      ]
     },
     "execution_count": 18,
     "metadata": {},
     "output_type": "execute_result"
    }
   ],
   "source": [
    "#just a quick checksum to make sure the code worked\n",
    "m.dis.idomain.array.sum() * 5"
   ]
  },
  {
   "cell_type": "markdown",
   "metadata": {},
   "source": [
    "## <span class=\"anchor\" id=\"shapefile\">5. Create a shapefile of the model grid</span>\n",
    "[Return to Top](#top)<br>\n",
    "\n",
    "#### This code creates a shapefile of the model grid. Compare to the original 'mahomet_dissolve.shp' that we imported. If they are a match, then congratulations, you have taken your first step into creating a model with MODFLOW SETUP!!!!\n"
   ]
  },
  {
   "cell_type": "code",
   "execution_count": 16,
   "metadata": {},
   "outputs": [
    {
     "name": "stdout",
     "output_type": "stream",
     "text": [
      "wrote mahomet1320ft.dis.shp\n"
     ]
    }
   ],
   "source": [
    "m.dis.export('mahomet{}ft.dis.shp'.format(dx))"
   ]
  },
  {
   "cell_type": "markdown",
   "metadata": {},
   "source": [
    "#### Before we move on, let's change our model back to the base directory. Note that this may fail if one of the above code blocks does not run properly"
   ]
  },
  {
   "cell_type": "code",
   "execution_count": 17,
   "metadata": {},
   "outputs": [],
   "source": [
    "os.chdir(basedir)\n"
   ]
  }
 ],
 "metadata": {
  "kernelspec": {
   "display_name": "neversink",
   "language": "python",
   "name": "neversink"
  },
  "language_info": {
   "codemirror_mode": {
    "name": "ipython",
    "version": 3
   },
   "file_extension": ".py",
   "mimetype": "text/x-python",
   "name": "python",
   "nbconvert_exporter": "python",
   "pygments_lexer": "ipython3",
   "version": "3.9.13"
  }
 },
 "nbformat": 4,
 "nbformat_minor": 4
}
